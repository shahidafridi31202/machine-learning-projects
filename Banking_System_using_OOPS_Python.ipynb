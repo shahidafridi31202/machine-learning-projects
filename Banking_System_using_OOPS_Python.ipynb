{
  "nbformat": 4,
  "nbformat_minor": 0,
  "metadata": {
    "colab": {
      "name": "Banking System using OOPS- Python.ipynb",
      "provenance": [],
      "authorship_tag": "ABX9TyOEfzTjLk8PbZRjxsAcTufm",
      "include_colab_link": true
    },
    "kernelspec": {
      "name": "python3",
      "display_name": "Python 3"
    },
    "language_info": {
      "name": "python"
    }
  },
  "cells": [
    {
      "cell_type": "markdown",
      "metadata": {
        "id": "view-in-github",
        "colab_type": "text"
      },
      "source": [
        "<a href=\"https://colab.research.google.com/github/shahidafridi31202/machine-learning-projects/blob/master/Banking_System_using_OOPS_Python.ipynb\" target=\"_parent\"><img src=\"https://colab.research.google.com/assets/colab-badge.svg\" alt=\"Open In Colab\"/></a>"
      ]
    },
    {
      "cell_type": "code",
      "execution_count": null,
      "metadata": {
        "colab": {
          "base_uri": "https://localhost:8080/"
        },
        "id": "LojxXQYkvwvX",
        "outputId": "a4aa25e1-6a24-42c5-8c95-fc2996dcffed"
      },
      "outputs": [
        {
          "output_type": "stream",
          "name": "stdout",
          "text": [
            "Personal Details\n",
            "Name  shahid\n",
            "Age  22\n",
            "Gender Male\n",
            "Amount is Deposited\n",
            "Current Balance = 20000\n",
            "Amount withdrawed\n",
            "Current Balance = 8000\n",
            "Amount insufficent\n",
            "Current Balance = 8000\n"
          ]
        }
      ],
      "source": [
        "#parent class: User\n",
        "class User:\n",
        "  def __init__(self,name,age,gender):\n",
        "    self.name=name\n",
        "    self.age=age\n",
        "    self.gender=gender\n",
        "  #parent class has a method to show the user details\n",
        "  def show_details(self):\n",
        "    print(\"Personal Details\")\n",
        "    print(\"Name \",self.name)\n",
        "    print(\"Age \",self.age)\n",
        "    print(\"Gender\",self.gender)\n",
        "#creating the child class and inherit the details of user\n",
        "class Bank(User):\n",
        "  Balance = 0\n",
        "  def __init(self,name,age,gender):\n",
        "    super().__init__(name,age,gender)\n",
        "    #intial balance is 0\n",
        "  #deposite\n",
        "  def deposite(self,amount):\n",
        "    self.amount=amount\n",
        "    self.Balance = self.Balance + self.amount\n",
        "    print(\"Amount is Deposited\")\n",
        "    print(\"Current Balance =\",self.Balance)\n",
        "  def withdraw(self,amount):\n",
        "    if(amount>self.Balance):\n",
        "      print(\"Amount insufficent\")\n",
        "      print(\"Current Balance =\",self.Balance)\n",
        "    else:\n",
        "      self.Balance=self.Balance-amount\n",
        "      print(\"Amount withdrawed\")\n",
        "      print(\"Current Balance =\",self.Balance)\n",
        "  \n",
        "\n",
        "Shahid = Bank(\"shahid\",22,\"Male\")\n",
        "Shahid.show_details()\n",
        "Shahid.deposite(20000)\n",
        "Shahid.withdraw(12000)\n",
        "Shahid.withdraw(200000)"
      ]
    },
    {
      "cell_type": "code",
      "source": [
        ""
      ],
      "metadata": {
        "id": "Kj9LvWwmw6Nn"
      },
      "execution_count": null,
      "outputs": []
    }
  ]
}